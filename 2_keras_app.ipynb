{
  "nbformat": 4,
  "nbformat_minor": 0,
  "metadata": {
    "colab": {
      "name": "2_keras_app.ipynb",
      "provenance": [],
      "collapsed_sections": [],
      "toc_visible": true,
      "include_colab_link": true
    },
    "kernelspec": {
      "name": "python3",
      "display_name": "Python 3"
    },
    "accelerator": "GPU"
  },
  "cells": [
    {
      "cell_type": "markdown",
      "metadata": {
        "id": "view-in-github",
        "colab_type": "text"
      },
      "source": [
        "<a href=\"https://colab.research.google.com/github/chunyulin/tf2020ncku/blob/master/2_keras_app.ipynb\" target=\"_parent\"><img src=\"https://colab.research.google.com/assets/colab-badge.svg\" alt=\"Open In Colab\"/></a>"
      ]
    },
    {
      "cell_type": "markdown",
      "metadata": {
        "id": "NhBUTHv06doT",
        "colab_type": "text"
      },
      "source": [
        "# Reuse models: Keras Application\n",
        "* https://keras.io/api/applications/"
      ]
    },
    {
      "cell_type": "code",
      "metadata": {
        "id": "EJxaZseG8BFA",
        "colab_type": "code",
        "outputId": "961d0c5e-8da7-4ea4-cc4a-81b28c703374",
        "colab": {
          "base_uri": "https://localhost:8080/",
          "height": 51
        }
      },
      "source": [
        "import tensorflow as tf\n",
        "import numpy as np\n",
        "import matplotlib.pyplot as plt\n",
        "\n",
        "\n",
        "mnist = tf.keras.datasets.mnist\n",
        "\n",
        "(x_train, y_train), (x_test, y_test) = mnist.load_data()\n",
        "x_train, x_test = x_train / 255.0, x_test / 255.0\n",
        "\n",
        "# Add a channels dimension\n",
        "x_train = x_train[..., tf.newaxis]\n",
        "x_test = x_test[..., tf.newaxis]\n",
        "\n",
        "print(\"X:\", x_train.shape)\n",
        "print(\"Y:\", y_train.shape)"
      ],
      "execution_count": 1,
      "outputs": [
        {
          "output_type": "stream",
          "text": [
            "X: (60000, 28, 28, 1)\n",
            "Y: (60000,)\n"
          ],
          "name": "stdout"
        }
      ]
    },
    {
      "cell_type": "code",
      "metadata": {
        "id": "Fv8qioBC8DwB",
        "colab_type": "code",
        "colab": {}
      },
      "source": [
        "# Load data with `tf.data.Dataset`\n",
        "def enlarge(x,y):\n",
        "  x = tf.reshape(x, (-1,1))\n",
        "  x = tf.tile(x,  tf.constant([1,3], tf.int32) )\n",
        "  x = tf.reshape(x, (28,28,3))            ## duplicate 3 channel\n",
        "  largex = tf.image.resize(x, [32, 32])   ##  denseNet need image >= 32x32\n",
        "  return largex, y\n",
        "\n",
        "train_ds = tf.data.Dataset.from_tensor_slices((x_train, y_train)).map(enlarge).shuffle(10000).batch(32).prefetch(tf.data.experimental.AUTOTUNE)\n",
        "test_ds  = tf.data.Dataset.from_tensor_slices((x_test, y_test)).map(enlarge).batch(32).prefetch(tf.data.experimental.AUTOTUNE)"
      ],
      "execution_count": 0,
      "outputs": []
    },
    {
      "cell_type": "code",
      "metadata": {
        "id": "_GPqpbkYxhDM",
        "colab_type": "code",
        "outputId": "997cb933-b0b5-42c1-a643-1e970e6b8c7a",
        "colab": {
          "base_uri": "https://localhost:8080/",
          "height": 34
        }
      },
      "source": [
        "for x,y in test_ds.take(1):\n",
        "  print(x.shape)"
      ],
      "execution_count": 3,
      "outputs": [
        {
          "output_type": "stream",
          "text": [
            "(64, 32, 32, 3)\n"
          ],
          "name": "stdout"
        }
      ]
    },
    {
      "cell_type": "code",
      "metadata": {
        "id": "9Qh7oK0a8iW4",
        "colab_type": "code",
        "colab": {}
      },
      "source": [
        ""
      ],
      "execution_count": 0,
      "outputs": []
    },
    {
      "cell_type": "markdown",
      "metadata": {
        "id": "l3aXaljyk9oD",
        "colab_type": "text"
      },
      "source": [
        "# Use DenseNet for MNIST (just for fun)\n",
        "* [Comparasion of models](https://www.cnblogs.com/shine-lee/p/11426134.html)\n",
        "\n",
        "![Comparasion of models](https://miro.medium.com/max/658/1*XoakexX4n9YSEalWxePqqw.png)\n",
        "* See also the [report on news](https://kknews.cc/zh-tw/tech/nekyn68.html) or the [original paper](https://arxiv.org/abs/1801.04381)"
      ]
    },
    {
      "cell_type": "code",
      "metadata": {
        "id": "hxPDre0W8TLg",
        "colab_type": "code",
        "colab": {}
      },
      "source": [
        "from tensorflow.keras.layers import Dense\n",
        "from tensorflow.keras import Model\n",
        "\n",
        "def add_last_layer(base_model, nb_classes):\n",
        "  \"\"\"\n",
        "  Add one layer for model to classify nb_class class\n",
        "  \"\"\"\n",
        "  x = base_model.output\n",
        "  predict = Dense(nb_classes, activation='softmax')(x)\n",
        "  return Model(inputs=base_model.input, outputs=predict)\n",
        "\n",
        "model0 = tf.keras.applications.densenet.DenseNet121(include_top=False, input_shape=(32,32,3))\n",
        "model = add_last_layer(model0, 10)\n",
        "#tf.keras.backend.image_data_format()"
      ],
      "execution_count": 0,
      "outputs": []
    },
    {
      "cell_type": "code",
      "metadata": {
        "id": "iMQ2r-GLoHdK",
        "colab_type": "code",
        "colab": {}
      },
      "source": [
        "model.summary()"
      ],
      "execution_count": 0,
      "outputs": []
    },
    {
      "cell_type": "code",
      "metadata": {
        "id": "c-iyCvEr3DWt",
        "colab_type": "code",
        "colab": {}
      },
      "source": [
        "# Define loss and optimzer\n",
        "loss_object = tf.keras.losses.SparseCategoricalCrossentropy()\n",
        "optimizer = tf.keras.optimizers.Adam()\n",
        "\n",
        "## define loss/acc fucntion\n",
        "train_loss = tf.keras.metrics.Mean(name='train_loss')\n",
        "train_accuracy = tf.keras.metrics.SparseCategoricalAccuracy(name='train_accuracy')\n",
        "\n",
        "test_loss = tf.keras.metrics.Mean(name='test_loss')\n",
        "test_accuracy = tf.keras.metrics.SparseCategoricalAccuracy(name='test_accuracy')\n",
        "\n",
        "## define train/test function\n",
        "@tf.function\n",
        "def train_step(images, labels):\n",
        "  with tf.GradientTape() as tape:\n",
        "    predictions = model(images)\n",
        "    loss = loss_object(labels, predictions)\n",
        "  gradients = tape.gradient(loss, model.trainable_variables)\n",
        "  optimizer.apply_gradients(zip(gradients, model.trainable_variables))\n",
        "\n",
        "  train_loss(loss)\n",
        "  train_accuracy(labels, predictions)\n",
        "\n",
        "@tf.function\n",
        "def test_step(images, labels):\n",
        "  predictions = model(images)\n",
        "  t_loss = loss_object(labels, predictions)\n",
        "\n",
        "  test_loss(t_loss)\n",
        "  test_accuracy(labels, predictions)"
      ],
      "execution_count": 0,
      "outputs": []
    },
    {
      "cell_type": "code",
      "metadata": {
        "id": "fmcacBdl3ocR",
        "colab_type": "code",
        "colab": {
          "base_uri": "https://localhost:8080/",
          "height": 105
        },
        "outputId": "ae28ab6d-dd90-4692-da11-e7151443adad"
      },
      "source": [
        "EPOCHS = 5\n",
        "\n",
        "train_loss_history = []\n",
        "test_loss_history = []\n",
        "\n",
        "for epoch in range(EPOCHS):\n",
        "  for images, labels in train_ds:\n",
        "    train_step(images, labels)\n",
        "\n",
        "  for test_images, test_labels in test_ds:\n",
        "    test_step(test_images, test_labels)\n",
        "\n",
        "  train_loss_history.append(np.mean(train_loss.result()))\n",
        "  test_loss_history.append(np.mean(test_loss.result()))\n",
        "\n",
        "  template = 'Epoch {}, Loss: {}, Accuracy: {}, Test Loss: {}, Test Accuracy: {}'\n",
        "  print(template.format(epoch+1,\n",
        "                        train_loss.result(),\n",
        "                        train_accuracy.result()*100,\n",
        "                        test_loss.result(),\n",
        "                        test_accuracy.result()*100))\n",
        "\n",
        "  # Reset the metrics for the next epoch\n",
        "  train_loss.reset_states()\n",
        "  train_accuracy.reset_states()\n",
        "  test_loss.reset_states()\n",
        "  test_accuracy.reset_states()"
      ],
      "execution_count": 0,
      "outputs": [
        {
          "output_type": "stream",
          "text": [
            "Epoch 1, Loss: 0.27818572521209717, Accuracy: 11.29642391204834, Test Loss: 0.08905678987503052, Test Accuracy: 11.059990882873535\n",
            "Epoch 2, Loss: 0.06764649599790573, Accuracy: 11.406426429748535, Test Loss: 0.04779548570513725, Test Accuracy: 11.057957649230957\n",
            "Epoch 3, Loss: 0.05059191584587097, Accuracy: 11.428725242614746, Test Loss: 0.032907333225011826, Test Accuracy: 11.062963485717773\n",
            "Epoch 4, Loss: 0.046368468552827835, Accuracy: 11.43455982208252, Test Loss: 0.0639394074678421, Test Accuracy: 11.040592193603516\n"
          ],
          "name": "stdout"
        }
      ]
    },
    {
      "cell_type": "markdown",
      "metadata": {
        "id": "Smm3xMHOY7V1",
        "colab_type": "text"
      },
      "source": [
        "# Let's make prediction with the model"
      ]
    },
    {
      "cell_type": "code",
      "metadata": {
        "id": "Dv3k2-rSDBnk",
        "colab_type": "code",
        "outputId": "eb98d9e0-b953-4883-b81f-8b9e778e778a",
        "colab": {
          "base_uri": "https://localhost:8080/",
          "height": 85
        }
      },
      "source": [
        "import matplotlib.pyplot as plt\n",
        "\n",
        "for images,labels in test_ds.take(2):\n",
        "  print(images.shape)  ## (64, 32, 32, 3)\n",
        "  im = images[7:8]     ## take 6th image out of the batch.\n",
        "  print(\"Predict: \", model.predict(im).shape)\n",
        "  #plt.imshow(im.numpy().reshape(32,32))\n",
        "  #plt.show()\n"
      ],
      "execution_count": 0,
      "outputs": [
        {
          "output_type": "stream",
          "text": [
            "(64, 32, 32, 3)\n",
            "Predict:  (1, 1, 1, 1024)\n",
            "(64, 32, 32, 3)\n",
            "Predict:  (1, 1, 1, 1024)\n"
          ],
          "name": "stdout"
        }
      ]
    },
    {
      "cell_type": "code",
      "metadata": {
        "id": "7Xr9cvNHLaNt",
        "colab_type": "code",
        "outputId": "2705d66a-d7f5-4c40-880a-083952b151dc",
        "colab": {
          "base_uri": "https://localhost:8080/",
          "height": 136
        }
      },
      "source": [
        "# Make prediction via `model.predict()` for multimple sample\n",
        "for images,labels in test_ds.take(1):\n",
        "  pre = model.predict(images).argmax(axis=1)\n",
        "  print( pre)\n",
        "  print( labels)\n",
        "  print( pre-labels.numpy())\n",
        "  "
      ],
      "execution_count": 0,
      "outputs": [
        {
          "output_type": "stream",
          "text": [
            "[7 2 1 0 4 1 4 9 5 9 0 6 9 0 1 5 9 7 3 4 9 6 6 5 4 0 7 4 0 1 3 1 3 4 7 2 7\n",
            " 1 2 1 1 7 4 2 3 5 1 2 4 4 6 3 5 5 6 0 4 1 9 5 7 8 9 3]\n",
            "tf.Tensor(\n",
            "[7 2 1 0 4 1 4 9 5 9 0 6 9 0 1 5 9 7 3 4 9 6 6 5 4 0 7 4 0 1 3 1 3 4 7 2 7\n",
            " 1 2 1 1 7 4 2 3 5 1 2 4 4 6 3 5 5 6 0 4 1 9 5 7 8 9 3], shape=(64,), dtype=uint8)\n",
            "[0 0 0 0 0 0 0 0 0 0 0 0 0 0 0 0 0 0 0 0 0 0 0 0 0 0 0 0 0 0 0 0 0 0 0 0 0\n",
            " 0 0 0 0 0 0 0 0 0 0 0 0 0 0 0 0 0 0 0 0 0 0 0 0 0 0 0]\n"
          ],
          "name": "stdout"
        }
      ]
    }
  ]
}
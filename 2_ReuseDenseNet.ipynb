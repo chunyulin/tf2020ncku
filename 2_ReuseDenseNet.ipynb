{
  "nbformat": 4,
  "nbformat_minor": 0,
  "metadata": {
    "colab": {
      "name": "2_ReuseDenseNet.ipynb",
      "provenance": [],
      "collapsed_sections": [],
      "toc_visible": true,
      "include_colab_link": true
    },
    "kernelspec": {
      "name": "python3",
      "display_name": "Python 3"
    },
    "accelerator": "GPU"
  },
  "cells": [
    {
      "cell_type": "markdown",
      "metadata": {
        "id": "view-in-github",
        "colab_type": "text"
      },
      "source": [
        "<a href=\"https://colab.research.google.com/github/chunyulin/tf2020ncku/blob/master/2_ReuseDenseNet.ipynb\" target=\"_parent\"><img src=\"https://colab.research.google.com/assets/colab-badge.svg\" alt=\"Open In Colab\"/></a>"
      ]
    },
    {
      "cell_type": "markdown",
      "metadata": {
        "id": "NhBUTHv06doT",
        "colab_type": "text"
      },
      "source": [
        "# Reuse model in Keras Application\n",
        "* https://keras.io/api/applications/"
      ]
    },
    {
      "cell_type": "code",
      "metadata": {
        "id": "EJxaZseG8BFA",
        "colab_type": "code",
        "outputId": "f948dd24-dc32-43d9-a0d6-bce339632da6",
        "colab": {
          "base_uri": "https://localhost:8080/",
          "height": 51
        }
      },
      "source": [
        "import numpy as np\n",
        "import tensorflow as tf\n",
        "import matplotlib.pyplot as plt\n",
        "\n",
        "\n",
        "mnist = tf.keras.datasets.mnist\n",
        "\n",
        "(x_train, y_train), (x_test, y_test) = mnist.load_data()\n",
        "x_train, x_test = x_train / 255.0, x_test / 255.0\n",
        "\n",
        "# Add a channels dimension\n",
        "x_train = x_train[..., tf.newaxis]\n",
        "x_test = x_test[..., tf.newaxis]\n",
        "\n",
        "print(\"X:\", x_train.shape)\n",
        "print(\"Y:\", y_train.shape)"
      ],
      "execution_count": 51,
      "outputs": [
        {
          "output_type": "stream",
          "text": [
            "X: (60000, 28, 28, 1)\n",
            "Y: (60000,)\n"
          ],
          "name": "stdout"
        }
      ]
    },
    {
      "cell_type": "code",
      "metadata": {
        "id": "Fv8qioBC8DwB",
        "colab_type": "code",
        "colab": {}
      },
      "source": [
        "# Load data with `tf.data.Dataset`\n",
        "\n",
        "def enlarge(x,y):\n",
        "  x = tf.reshape(x, (-1,1))\n",
        "  x = tf.tile(x,  tf.constant([1,3], tf.int32) )\n",
        "  x = tf.reshape(x, (28,28,3))            ## duplicate 3 channel\n",
        "  largex = tf.image.resize(x, [32, 32])   ## denseNet need image >= 32x32\n",
        "  return largex, y\n",
        "\n",
        "train_ds = tf.data.Dataset.from_tensor_slices((x_train, y_train)).map(enlarge).shuffle(10000).batch(32).prefetch(tf.data.experimental.AUTOTUNE)\n",
        "test_ds  = tf.data.Dataset.from_tensor_slices((x_test, y_test)).map(enlarge).batch(32).prefetch(tf.data.experimental.AUTOTUNE)"
      ],
      "execution_count": 0,
      "outputs": []
    },
    {
      "cell_type": "code",
      "metadata": {
        "id": "_GPqpbkYxhDM",
        "colab_type": "code",
        "outputId": "80526373-af3a-43ee-cbe7-701789089353",
        "colab": {
          "base_uri": "https://localhost:8080/",
          "height": 34
        }
      },
      "source": [
        "for x,y in test_ds.take(1):\n",
        "  print(x.shape)\n",
        "  for i in range(32):\n",
        "    plt.figure()"
      ],
      "execution_count": 53,
      "outputs": [
        {
          "output_type": "stream",
          "text": [
            "(32, 32, 32, 3)\n"
          ],
          "name": "stdout"
        }
      ]
    },
    {
      "cell_type": "markdown",
      "metadata": {
        "id": "l3aXaljyk9oD",
        "colab_type": "text"
      },
      "source": [
        "# Use DenseNet for MNIST (just for fun)\n",
        "* DenseNet\n",
        "![DenseNet](https://miro.medium.com/max/1302/1*Cv2IqVWmiakP_boAJODKig.png)\n",
        "* [Comparasion of models](https://www.cnblogs.com/shine-lee/p/11426134.html)\n",
        "![Comparasion of models](https://miro.medium.com/max/658/1*XoakexX4n9YSEalWxePqqw.png)\n",
        "* See also the [original paper of DenseNet](https://arxiv.org/abs/1608.06993)\n",
        "\n"
      ]
    },
    {
      "cell_type": "code",
      "metadata": {
        "id": "hxPDre0W8TLg",
        "colab_type": "code",
        "colab": {}
      },
      "source": [
        "from tensorflow.keras.layers import Dense\n",
        "from tensorflow.keras import Model\n",
        "\n",
        "# Reset the graph to prevent the change of layer's name when re-run this block.\n",
        "tf.compat.v1.reset_default_graph()\n",
        "\n",
        "def add_last_layer(base_model, nb_classes):\n",
        "  \"\"\"\n",
        "  Add one layer for model to classify nb_class class\n",
        "  \"\"\"\n",
        "  x = base_model.output\n",
        "  predict = Dense(nb_classes, activation='softmax')(x)\n",
        "  return Model(inputs=base_model.input, outputs=predict)\n",
        "\n",
        "model0 = tf.keras.applications.densenet.DenseNet121(include_top=False, input_shape=(32,32,3))\n",
        "model = add_last_layer(model0, 10)\n",
        "#tf.keras.backend.image_data_format()"
      ],
      "execution_count": 0,
      "outputs": []
    },
    {
      "cell_type": "code",
      "metadata": {
        "id": "iMQ2r-GLoHdK",
        "colab_type": "code",
        "colab": {}
      },
      "source": [
        "model.summary()"
      ],
      "execution_count": 0,
      "outputs": []
    },
    {
      "cell_type": "code",
      "metadata": {
        "id": "gGO6PPHbtmrT",
        "colab_type": "code",
        "colab": {
          "base_uri": "https://localhost:8080/",
          "height": 105
        },
        "outputId": "729b7371-3542-48a0-e42c-00ff02fc3fba"
      },
      "source": [
        "### You can get the detail of each layer and the weights by its name\n",
        "layer = model.get_layer('bn')\n",
        "print(layer.get_config())        ## layer information\n",
        "print(len(layer.get_weights()))\n",
        "\n",
        "layer = model.get_layer('conv5_block16_2_conv')\n",
        "print(layer.get_config())        ## layer information\n",
        "print(len(layer.get_weights()))\n"
      ],
      "execution_count": 57,
      "outputs": [
        {
          "output_type": "stream",
          "text": [
            "{'name': 'bn', 'trainable': True, 'dtype': 'float32', 'axis': ListWrapper([3]), 'momentum': 0.99, 'epsilon': 1.001e-05, 'center': True, 'scale': True, 'beta_initializer': {'class_name': 'Zeros', 'config': {}}, 'gamma_initializer': {'class_name': 'Ones', 'config': {}}, 'moving_mean_initializer': {'class_name': 'Zeros', 'config': {}}, 'moving_variance_initializer': {'class_name': 'Ones', 'config': {}}, 'beta_regularizer': None, 'gamma_regularizer': None, 'beta_constraint': None, 'gamma_constraint': None}\n",
            "4\n",
            "{'name': 'conv5_block16_2_conv', 'trainable': True, 'dtype': 'float32', 'filters': 32, 'kernel_size': (3, 3), 'strides': (1, 1), 'padding': 'same', 'data_format': 'channels_last', 'dilation_rate': (1, 1), 'activation': 'linear', 'use_bias': False, 'kernel_initializer': {'class_name': 'GlorotUniform', 'config': {'seed': None}}, 'bias_initializer': {'class_name': 'Zeros', 'config': {}}, 'kernel_regularizer': None, 'bias_regularizer': None, 'activity_regularizer': None, 'kernel_constraint': None, 'bias_constraint': None}\n",
            "1\n"
          ],
          "name": "stdout"
        }
      ]
    },
    {
      "cell_type": "code",
      "metadata": {
        "id": "j_fWAnkH0vGm",
        "colab_type": "code",
        "colab": {}
      },
      "source": [
        "# Build a new model from the DenseNet and bypassing the last few layers\n",
        "\n",
        "from tensorflow.keras.layers import Dense\n",
        "from tensorflow.keras import Model\n",
        "\n",
        "def modify_model(base_model, layer_name, nb_classes):\n",
        "  x = base_model.get_layer(layer_name).output\n",
        "  x = Dense(128, activation='relu')(x)\n",
        "  predict = Dense(nb_classes, activation='softmax')(x)\n",
        "  return Model(inputs=base_model.input, outputs=predict)\n",
        "\n",
        "model0 = tf.keras.applications.densenet.DenseNet121(include_top=False, input_shape=(32,32,3))\n",
        "model = modify_model(model0, 'bn', 10)\n",
        "#tf.keras.backend.image_data_format()"
      ],
      "execution_count": 0,
      "outputs": []
    },
    {
      "cell_type": "code",
      "metadata": {
        "id": "c-iyCvEr3DWt",
        "colab_type": "code",
        "colab": {}
      },
      "source": [
        "## Define loss and optimzer object\n",
        "loss_object = tf.keras.losses.SparseCategoricalCrossentropy()\n",
        "optimizer   = tf.keras.optimizers.Adam()\n",
        "\n",
        "## define loss/acc fucntion\n",
        "train_loss = tf.keras.metrics.Mean(name='train_loss')\n",
        "train_accuracy = tf.keras.metrics.SparseCategoricalAccuracy(name='train_accuracy')\n",
        "\n",
        "## define train/test function for faster training than TF2 eager mode. See https://www.tensorflow.org/guide/function\n",
        "@tf.function\n",
        "def train_step(images, labels):\n",
        "  with tf.GradientTape() as tape:\n",
        "    predictions = model(images)\n",
        "    loss = loss_object(labels, predictions)\n",
        "  gradients = tape.gradient(loss, model.trainable_variables)\n",
        "  optimizer.apply_gradients(zip(gradients, model.trainable_variables))\n",
        "\n",
        "  train_loss(loss)\n",
        "  train_accuracy(labels, predictions)"
      ],
      "execution_count": 0,
      "outputs": []
    },
    {
      "cell_type": "code",
      "metadata": {
        "id": "fmcacBdl3ocR",
        "colab_type": "code",
        "colab": {
          "base_uri": "https://localhost:8080/",
          "height": 102
        },
        "outputId": "eca117d2-32d7-4dd6-bd71-bb97ea629c93"
      },
      "source": [
        "EPOCHS = 5\n",
        "train_loss_history = []\n",
        "\n",
        "for epoch in range(EPOCHS):\n",
        "  for images, labels in train_ds:\n",
        "    train_step(images, labels)\n",
        "\n",
        "  train_loss_history.append(np.mean(train_loss.result()))\n",
        "\n",
        "  template = 'Epoch {}, Loss: {}, Accuracy: {}'\n",
        "  print(template.format(epoch+1,\n",
        "                        train_loss.result(),\n",
        "                        train_accuracy.result()*100 ) )\n",
        "\n",
        "  # Reset the metrics for the next epoch\n",
        "  train_loss.reset_states()\n",
        "  train_accuracy.reset_states()\n"
      ],
      "execution_count": 60,
      "outputs": [
        {
          "output_type": "stream",
          "text": [
            "Epoch 1, Loss: 0.25300925970077515, Accuracy: 12.586771011352539\n",
            "Epoch 2, Loss: 0.08011738955974579, Accuracy: 12.823073387145996\n",
            "Epoch 3, Loss: 0.06939082592725754, Accuracy: 12.769115447998047\n",
            "Epoch 4, Loss: 0.05043322592973709, Accuracy: 12.794634819030762\n",
            "Epoch 5, Loss: 0.057899799197912216, Accuracy: 12.743802070617676\n"
          ],
          "name": "stdout"
        }
      ]
    },
    {
      "cell_type": "markdown",
      "metadata": {
        "id": "Smm3xMHOY7V1",
        "colab_type": "text"
      },
      "source": [
        "# Let's make prediction with the model"
      ]
    },
    {
      "cell_type": "code",
      "metadata": {
        "id": "Dv3k2-rSDBnk",
        "colab_type": "code",
        "outputId": "6b940c4d-44c2-4da3-f27b-7aed091c941d",
        "colab": {
          "base_uri": "https://localhost:8080/",
          "height": 85
        }
      },
      "source": [
        "import matplotlib.pyplot as plt\n",
        "\n",
        "for images,labels in test_ds.take(2):\n",
        "  print(images.shape)  ## (64, 32, 32, 3)\n",
        "  im = images[7:8]     ## take 7th image out of the batch.\n",
        "  print(\"Predict: \", model.predict(im).argmax())\n",
        "  #plt.imshow(im.numpy().reshape(32,32))\n",
        "  #plt.show()\n"
      ],
      "execution_count": 61,
      "outputs": [
        {
          "output_type": "stream",
          "text": [
            "(32, 32, 32, 3)\n",
            "Predict:  9\n",
            "(32, 32, 32, 3)\n",
            "Predict:  1\n"
          ],
          "name": "stdout"
        }
      ]
    },
    {
      "cell_type": "code",
      "metadata": {
        "id": "7Xr9cvNHLaNt",
        "colab_type": "code",
        "colab": {}
      },
      "source": [
        "# Make prediction via `model.predict()` for multimple sample\n",
        "for images,labels in test_ds.take(1):\n",
        "  #print(images.shape)                # (32, 32, 32, 3)\n",
        "  #print(model.predict(images).shape) # (32, 1, 1, 10)\n",
        "  pre = model.predict(images).argmax(axis=-1).flatten()\n",
        "  print( pre - labels.numpy() )\n",
        "  #for i in range(32):\n",
        "  #  plt.figure()\n",
        "  #  plt.imshow(images[i])\n",
        "  #  plt.title(\"Label:%d Pred:%d\" % (labels[i], pre[i]))\n"
      ],
      "execution_count": 0,
      "outputs": []
    },
    {
      "cell_type": "markdown",
      "metadata": {
        "id": "qAs6upmqvdHR",
        "colab_type": "text"
      },
      "source": [
        "### That is all for today. For more `tf.keras` usage, see some tricks in [Keras FAQ](https://keras.io/getting_started/faq/)."
      ]
    },
    {
      "cell_type": "code",
      "metadata": {
        "id": "WLTeQhg1E_4T",
        "colab_type": "code",
        "colab": {}
      },
      "source": [
        ""
      ],
      "execution_count": 0,
      "outputs": []
    }
  ]
}
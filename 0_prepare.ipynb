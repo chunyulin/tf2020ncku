{
  "nbformat": 4,
  "nbformat_minor": 0,
  "metadata": {
    "colab": {
      "name": "0_prepare.ipynb",
      "provenance": [],
      "collapsed_sections": [],
      "toc_visible": true,
      "include_colab_link": true
    },
    "kernelspec": {
      "name": "python3",
      "display_name": "Python 3"
    },
    "accelerator": "GPU"
  },
  "cells": [
    {
      "cell_type": "markdown",
      "metadata": {
        "id": "view-in-github",
        "colab_type": "text"
      },
      "source": [
        "<a href=\"https://colab.research.google.com/github/chunyulin/tf2020ncku/blob/master/0_prepare.ipynb\" target=\"_parent\"><img src=\"https://colab.research.google.com/assets/colab-badge.svg\" alt=\"Open In Colab\"/></a>"
      ]
    },
    {
      "cell_type": "markdown",
      "metadata": {
        "id": "NhBUTHv06doT",
        "colab_type": "text"
      },
      "source": [
        "# Get familiar with your free GPU resource\n",
        "* Colab as the linux box with root premission.\n",
        "* Mount Google Drive to the Colab box.\n",
        "* Load ipython from Github directly. You can also checkout the whole github repository in Colab, though I don't think it really needed.\n",
        "* All data here are temporary. You would like to save on Google drive, github, or your own server and cloud resources.\n",
        "\n"
      ]
    },
    {
      "cell_type": "code",
      "metadata": {
        "id": "AXarvp_z3Kwf",
        "colab_type": "code",
        "outputId": "741c8a98-8831-46f6-d1ea-ed7bcd9a577d",
        "colab": {
          "base_uri": "https://localhost:8080/",
          "height": 289
        }
      },
      "source": [
        "# For those familiar with Linux -- You just own a virtual machine with root\n",
        "!whoami\n",
        "!pwd\n",
        "!free -h\n",
        "!df -h\n",
        "#!ls /\n",
        "\n"
      ],
      "execution_count": 0,
      "outputs": [
        {
          "output_type": "stream",
          "text": [
            "root\n",
            "/content\n",
            "              total        used        free      shared  buff/cache   available\n",
            "Mem:            12G        4.1G        4.7G         14M        3.9G         10G\n",
            "Swap:            0B          0B          0B\n",
            "Filesystem      Size  Used Avail Use% Mounted on\n",
            "overlay          69G   32G   34G  49% /\n",
            "tmpfs            64M     0   64M   0% /dev\n",
            "tmpfs           6.4G     0  6.4G   0% /sys/fs/cgroup\n",
            "shm             5.8G     0  5.8G   0% /dev/shm\n",
            "tmpfs           6.4G   16K  6.4G   1% /var/colab\n",
            "/dev/sda1        75G   33G   42G  44% /opt/bin\n",
            "tmpfs           6.4G     0  6.4G   0% /proc/acpi\n",
            "tmpfs           6.4G     0  6.4G   0% /proc/scsi\n",
            "tmpfs           6.4G     0  6.4G   0% /sys/firmware\n",
            "drive            15G  6.5G  8.6G  43% /content/drive\n"
          ],
          "name": "stdout"
        }
      ]
    },
    {
      "cell_type": "code",
      "metadata": {
        "id": "EkuGjQGqBehB",
        "colab_type": "code",
        "outputId": "f90ca587-4e22-403f-f6fb-bff1cf3aba51",
        "colab": {
          "base_uri": "https://localhost:8080/",
          "height": 833
        }
      },
      "source": [
        "###  Check your TF version and GPU hardware\n",
        "import tensorflow as tf\n",
        "#import tensorflow.compat.v1 as tf\n",
        "from tensorflow.python.client import device_lib\n",
        "\n",
        "print (\"Using Tensorflow: \", tf.__version__)\n",
        "print ( device_lib.list_local_devices() )\n",
        "!nvidia-smi"
      ],
      "execution_count": 0,
      "outputs": [
        {
          "output_type": "stream",
          "text": [
            "Using Tensorflow:  2.2.0\n",
            "[name: \"/device:CPU:0\"\n",
            "device_type: \"CPU\"\n",
            "memory_limit: 268435456\n",
            "locality {\n",
            "}\n",
            "incarnation: 7923632235165005891\n",
            ", name: \"/device:XLA_CPU:0\"\n",
            "device_type: \"XLA_CPU\"\n",
            "memory_limit: 17179869184\n",
            "locality {\n",
            "}\n",
            "incarnation: 50998199533165729\n",
            "physical_device_desc: \"device: XLA_CPU device\"\n",
            ", name: \"/device:XLA_GPU:0\"\n",
            "device_type: \"XLA_GPU\"\n",
            "memory_limit: 17179869184\n",
            "locality {\n",
            "}\n",
            "incarnation: 7382590911967725130\n",
            "physical_device_desc: \"device: XLA_GPU device\"\n",
            ", name: \"/device:GPU:0\"\n",
            "device_type: \"GPU\"\n",
            "memory_limit: 14648777152\n",
            "locality {\n",
            "  bus_id: 1\n",
            "  links {\n",
            "  }\n",
            "}\n",
            "incarnation: 8694906860975512484\n",
            "physical_device_desc: \"device: 0, name: Tesla T4, pci bus id: 0000:00:04.0, compute capability: 7.5\"\n",
            "]\n",
            "Wed Jun 10 08:06:47 2020       \n",
            "+-----------------------------------------------------------------------------+\n",
            "| NVIDIA-SMI 440.82       Driver Version: 418.67       CUDA Version: 10.1     |\n",
            "|-------------------------------+----------------------+----------------------+\n",
            "| GPU  Name        Persistence-M| Bus-Id        Disp.A | Volatile Uncorr. ECC |\n",
            "| Fan  Temp  Perf  Pwr:Usage/Cap|         Memory-Usage | GPU-Util  Compute M. |\n",
            "|===============================+======================+======================|\n",
            "|   0  Tesla T4            Off  | 00000000:00:04.0 Off |                    0 |\n",
            "| N/A   68C    P0    30W /  70W |    865MiB / 15079MiB |      0%      Default |\n",
            "+-------------------------------+----------------------+----------------------+\n",
            "                                                                               \n",
            "+-----------------------------------------------------------------------------+\n",
            "| Processes:                                                       GPU Memory |\n",
            "|  GPU       PID   Type   Process name                             Usage      |\n",
            "|=============================================================================|\n",
            "+-----------------------------------------------------------------------------+\n"
          ],
          "name": "stdout"
        }
      ]
    },
    {
      "cell_type": "code",
      "metadata": {
        "id": "htfK48KA1wVl",
        "colab_type": "code",
        "colab": {}
      },
      "source": [
        "## All data here are temporary. You would like to save on Google drive, github, or your own server.\n",
        "# You cab mount Google Drive\n",
        "# Or just wget from other storage you have, such as S3, HTTP,...\n",
        "\n",
        "from google.colab import drive\n",
        "drive.mount('/content/drive')\n",
        "#!ls /content/drive/'My Drive'"
      ],
      "execution_count": 0,
      "outputs": []
    },
    {
      "cell_type": "code",
      "metadata": {
        "id": "JHfKWwgU7_s0",
        "colab_type": "code",
        "colab": {}
      },
      "source": [
        "import os\n",
        "GIT_USERNAME = \"chunyulin\"\n",
        "GIT_REPOSITORY = \"test\"     # git repository\n",
        "\n",
        "#GIT_TOKEN = \"XXXX\"          # only need for private git repository\n",
        "#GIT_PATH = \"https://{GIT_TOKEN}@github.com/{GIT_USERNAME}/{GIT_REPOSITORY}.git\"\n",
        "GIT_PATH = \"https://github.com/%s/%s.git\" % ( GIT_USERNAME, GIT_REPOSITORY )\n",
        "\n",
        "!git clone \"{GIT_PATH}\"     ## {} is only valid in bash\n",
        "!ls"
      ],
      "execution_count": 0,
      "outputs": []
    },
    {
      "cell_type": "markdown",
      "metadata": {
        "id": "194Cuand6eXm",
        "colab_type": "text"
      },
      "source": [
        "# A simple TensorFlow task : MNIST\n",
        "Example from https://www.tensorflow.org/tutorials/quickstart/advanced\n",
        "\n",
        "* Load data: `tf.keras.datasets.mnist.load_data()`\n",
        "* Prepare TF dataset: `tf.data.Dataset`\n",
        "* Design model: `class MyModel(Model)`\n",
        "* Perform Training via `tf.keras`\n",
        "\n",
        "### Sketch workflow for a ML task\n",
        "![Simple ML task workflow](https://www.researchgate.net/profile/Alexander_Osman2/publication/330542014/figure/fig3/AS:736331865026562@1552566605605/A-generic-machine-learning-workflow_W640.jpg)\n",
        "\n",
        "### Some note about TF model.\n",
        "* There are many approached to write a model. See [the blog](https://www.pyimagesearch.com/2019/10/28/3-ways-to-create-a-keras-model-with-tensorflow-2-0-sequential-functional-and-model-subclassing/).\n",
        "* Subclass model may not sequencial and is not static. Some function are not support. See [this duscussion](https://stackoverflow.com/questions/51806852/cant-save-custom-subclassed-model).\n",
        "* Embrace and try to familiar with Object-Orinted Programming style. Many python and TF frameworks are written with OOP and you will be benefited from knowing it.  "
      ]
    },
    {
      "cell_type": "code",
      "metadata": {
        "id": "EJxaZseG8BFA",
        "colab_type": "code",
        "outputId": "2ccaab88-6f56-4adb-cfba-a4b3cdfb4372",
        "colab": {
          "base_uri": "https://localhost:8080/",
          "height": 51
        }
      },
      "source": [
        "import tensorflow as tf\n",
        "import numpy as np\n",
        "\n",
        "mnist = tf.keras.datasets.mnist\n",
        "\n",
        "(x_train, y_train), (x_test, y_test) = mnist.load_data()\n",
        "x_train, x_test = x_train / 255.0, x_test / 255.0\n",
        "\n",
        "# Add a channels dimension\n",
        "x_train = x_train[..., tf.newaxis]\n",
        "x_test = x_test[..., tf.newaxis]\n",
        "\n",
        "print(\"X:\", x_train.shape)\n",
        "print(\"Y:\", y_train.shape)"
      ],
      "execution_count": 0,
      "outputs": [
        {
          "output_type": "stream",
          "text": [
            "X: (60000, 28, 28, 1)\n",
            "Y: (60000,)\n"
          ],
          "name": "stdout"
        }
      ]
    },
    {
      "cell_type": "code",
      "metadata": {
        "id": "Fv8qioBC8DwB",
        "colab_type": "code",
        "colab": {}
      },
      "source": [
        "# Load data with `tf.data.Dataset`\n",
        "train_ds = tf.data.Dataset.from_tensor_slices((x_train, y_train)).shuffle(10000).batch(64)\n",
        "\n",
        "test_ds = tf.data.Dataset.from_tensor_slices((x_test, y_test)).batch(64)"
      ],
      "execution_count": 0,
      "outputs": []
    },
    {
      "cell_type": "code",
      "metadata": {
        "id": "LjTTnbg0EAcL",
        "colab_type": "code",
        "colab": {}
      },
      "source": [
        "## Before training, let's have a look on the data\n",
        "import matplotlib.pyplot as plt\n",
        "ID=111\n",
        "plt.imshow(x_train[ID,...,0])\n",
        "plt.title(\"MNIST: %d\" % y_train[ID])\n",
        "plt.show()"
      ],
      "execution_count": 0,
      "outputs": []
    },
    {
      "cell_type": "code",
      "metadata": {
        "id": "hxPDre0W8TLg",
        "colab_type": "code",
        "colab": {}
      },
      "source": [
        "from tensorflow.keras import Model\n",
        "from tensorflow.keras.layers import Dense,Conv2D,Flatten\n",
        "class MyModel(Model):\n",
        "  def __init__(self):\n",
        "    super(MyModel, self).__init__()\n",
        "    self.conv1 = Conv2D(32, 3, activation='relu')\n",
        "    #self.conv2 = Conv2D(64, 3, activation='relu')\n",
        "    self.flatten = Flatten()\n",
        "    self.d1 = Dense(128, activation='relu')\n",
        "    self.d2 = Dense(10, activation='softmax', name=\"predict\")\n",
        "\n",
        "  def call(self, x):\n",
        "    x = self.conv1(x)\n",
        "    #x = self.conv2(x)\n",
        "    x = self.flatten(x)\n",
        "    x = self.d1(x)\n",
        "    return self.d2(x)\n",
        "\n",
        "# Create an instance of the model\n",
        "tf.compat.v1.reset_default_graph()\n",
        "model = MyModel()\n",
        "\n",
        "# Define loss and optimzer\n",
        "#loss_object = tf.keras.losses.SparseCategoricalCrossentropy()\n",
        "#optimizer = tf.keras.optimizers.Adam()\n",
        "#model.build( input_shape=(None, 28,28,1) )\n"
      ],
      "execution_count": 0,
      "outputs": []
    },
    {
      "cell_type": "code",
      "metadata": {
        "id": "yj03qtRFDQf6",
        "colab_type": "code",
        "outputId": "d0419f59-741e-4e7f-f1b4-a325774cdbab",
        "colab": {
          "base_uri": "https://localhost:8080/",
          "height": 71
        }
      },
      "source": [
        "from keras.utils.vis_utils import plot_model\n",
        "plot_model(model, show_shapes=True, to_file='model.png')\n"
      ],
      "execution_count": 0,
      "outputs": [
        {
          "output_type": "execute_result",
          "data": {
            "image/png": "[encoded data removed]",
            "text/plain": [
              "<IPython.core.display.Image object>"
            ]
          },
          "metadata": {
            "tags": []
          },
          "execution_count": 247
        }
      ]
    },
    {
      "cell_type": "code",
      "metadata": {
        "id": "CbinNbvB8YKq",
        "colab_type": "code",
        "colab": {}
      },
      "source": [
        ""
      ],
      "execution_count": 0,
      "outputs": []
    },
    {
      "cell_type": "code",
      "metadata": {
        "id": "H_KFU7JY8aPH",
        "colab_type": "code",
        "colab": {}
      },
      "source": [
        "## define loss/acc fucntion\n",
        "train_loss = tf.keras.metrics.Mean(name='train_loss')\n",
        "train_accuracy = tf.keras.metrics.SparseCategoricalAccuracy(name='train_accuracy')\n",
        "\n",
        "test_loss = tf.keras.metrics.Mean(name='test_loss')\n",
        "test_accuracy = tf.keras.metrics.SparseCategoricalAccuracy(name='test_accuracy')\n",
        "\n",
        "## define train/test function\n",
        "@tf.function\n",
        "def train_step(images, labels):\n",
        "  with tf.GradientTape() as tape:\n",
        "    predictions = model(images)\n",
        "    loss = loss_object(labels, predictions)\n",
        "  gradients = tape.gradient(loss, model.trainable_variables)\n",
        "  optimizer.apply_gradients(zip(gradients, model.trainable_variables))\n",
        "\n",
        "  train_loss(loss)\n",
        "  train_accuracy(labels, predictions)\n",
        "\n",
        "@tf.function\n",
        "def test_step(images, labels):\n",
        "  predictions = model(images)\n",
        "  t_loss = loss_object(labels, predictions)\n",
        "\n",
        "  test_loss(t_loss)\n",
        "  test_accuracy(labels, predictions)"
      ],
      "execution_count": 0,
      "outputs": []
    },
    {
      "cell_type": "code",
      "metadata": {
        "id": "XD9Z09Uq8f1v",
        "colab_type": "code",
        "outputId": "6a49f713-c223-4977-b0bf-32a22d4bd660",
        "colab": {
          "base_uri": "https://localhost:8080/",
          "height": 309
        }
      },
      "source": [
        "EPOCHS = 10\n",
        "\n",
        "train_loss_history = []\n",
        "test_loss_history = []\n",
        "\n",
        "for epoch in range(EPOCHS):\n",
        "  for images, labels in train_ds:\n",
        "    train_step(images, labels)\n",
        "\n",
        "  for test_images, test_labels in test_ds:\n",
        "    test_step(test_images, test_labels)\n",
        "\n",
        "  train_loss_history.append(np.mean(train_loss.result()))\n",
        "  test_loss_history.append(np.mean(test_loss.result()))\n",
        "\n",
        "  template = 'Epoch {}, Loss: {}, Accuracy: {}, Test Loss: {}, Test Accuracy: {}'\n",
        "  print(template.format(epoch+1,\n",
        "                        train_loss.result(),\n",
        "                        train_accuracy.result()*100,\n",
        "                        test_loss.result(),\n",
        "                        test_accuracy.result()*100))\n",
        "\n",
        "  # Reset the metrics for the next epoch\n",
        "  train_loss.reset_states()\n",
        "  train_accuracy.reset_states()\n",
        "  test_loss.reset_states()\n",
        "  test_accuracy.reset_states()"
      ],
      "execution_count": 0,
      "outputs": [
        {
          "output_type": "stream",
          "text": [
            "WARNING:tensorflow:Layer my_model is casting an input tensor from dtype float64 to the layer's dtype of float32, which is new behavior in TensorFlow 2.  The layer has dtype float32 because it's dtype defaults to floatx.\n",
            "\n",
            "If you intended to run this layer in float32, you can safely ignore this warning. If in doubt, this warning is likely only an issue if you are porting a TensorFlow 1.X model to TensorFlow 2.\n",
            "\n",
            "To change all layers to have dtype float64 by default, call `tf.keras.backend.set_floatx('float64')`. To change just this layer, pass dtype='float64' to the layer constructor. If you are the author of this layer, you can disable autocasting by passing autocast=False to the base Layer constructor.\n",
            "\n",
            "Epoch 1, Loss: 0.11488024890422821, Accuracy: 96.53166198730469, Test Loss: 0.050663821399211884, Test Accuracy: 98.4000015258789\n",
            "Epoch 2, Loss: 0.028811268508434296, Accuracy: 99.1383285522461, Test Loss: 0.04613754153251648, Test Accuracy: 98.43000030517578\n",
            "Epoch 3, Loss: 0.012663349509239197, Accuracy: 99.64666748046875, Test Loss: 0.04838253930211067, Test Accuracy: 98.52999877929688\n",
            "Epoch 4, Loss: 0.005781180690973997, Accuracy: 99.84166717529297, Test Loss: 0.04771049693226814, Test Accuracy: 98.61000061035156\n",
            "Epoch 5, Loss: 0.004711089190095663, Accuracy: 99.86499786376953, Test Loss: 0.05635429173707962, Test Accuracy: 98.43000030517578\n",
            "Epoch 6, Loss: 0.003804776817560196, Accuracy: 99.89167022705078, Test Loss: 0.056152284145355225, Test Accuracy: 98.56999969482422\n",
            "Epoch 7, Loss: 0.0028100188355892897, Accuracy: 99.91666412353516, Test Loss: 0.06756715476512909, Test Accuracy: 98.5\n",
            "Epoch 8, Loss: 0.003124248469248414, Accuracy: 99.90166473388672, Test Loss: 0.06435172259807587, Test Accuracy: 98.54999542236328\n",
            "Epoch 9, Loss: 0.0027037793770432472, Accuracy: 99.91166687011719, Test Loss: 0.07006505131721497, Test Accuracy: 98.43999481201172\n",
            "Epoch 10, Loss: 0.0008644488989375532, Accuracy: 99.98333740234375, Test Loss: 0.0676242932677269, Test Accuracy: 98.50999450683594\n"
          ],
          "name": "stdout"
        }
      ]
    },
    {
      "cell_type": "code",
      "metadata": {
        "id": "S2khD2zrHYH9",
        "colab_type": "code",
        "outputId": "9f9f20ec-ac72-4eff-9035-98c0237857ff",
        "colab": {
          "base_uri": "https://localhost:8080/",
          "height": 299
        }
      },
      "source": [
        "## Monitor the training behavior.\n",
        "## Can be replace with other tools like TensorBoard.\n",
        "plt.plot(train_loss_history, label='train')\n",
        "plt.plot(test_loss_history, label='test')\n",
        "plt.xlabel('Batch #')\n",
        "plt.ylabel('Loss [entropy]')\n",
        "plt.legend()"
      ],
      "execution_count": 0,
      "outputs": [
        {
          "output_type": "execute_result",
          "data": {
            "text/plain": [
              "<matplotlib.legend.Legend at 0x7fb7d9625898>"
            ]
          },
          "metadata": {
            "tags": []
          },
          "execution_count": 251
        },
        {
          "output_type": "display_data",
          "data": {
            "image/png": "[encoded data removed]",
            "text/plain": [
              "<Figure size 432x288 with 1 Axes>"
            ]
          },
          "metadata": {
            "tags": [],
            "needs_background": "light"
          }
        }
      ]
    },
    {
      "cell_type": "markdown",
      "metadata": {
        "id": "zmF70j8jJuk0",
        "colab_type": "text"
      },
      "source": [
        "# Train with Keras API: `tf.keras.Model.fit()`\n"
      ]
    },
    {
      "cell_type": "code",
      "metadata": {
        "id": "hRl8hVtjJKBJ",
        "colab_type": "code",
        "colab": {}
      },
      "source": [
        "# Another way to train:\n",
        "model.compile(optimizer=tf.keras.optimizers.Adam(), loss = tf.keras.losses.SparseCategoricalCrossentropy())\n",
        "his = model.fit(x_train, y_train, batch_size=64, epochs=10, verbose=2,\n",
        "                    validation_data=(x_test, y_test))"
      ],
      "execution_count": 0,
      "outputs": []
    },
    {
      "cell_type": "code",
      "metadata": {
        "id": "3YBFzhOxK5zk",
        "colab_type": "code",
        "outputId": "8a35e50c-75c8-49cf-ccd5-d014e69dc100",
        "colab": {
          "base_uri": "https://localhost:8080/",
          "height": 266
        }
      },
      "source": [
        "plt.plot(his.history['loss'], label=\"train loss\")\n",
        "plt.plot(his.history['val_loss'], label=\"val loss\")\n",
        "plt.legend()\n",
        "plt.show()"
      ],
      "execution_count": 0,
      "outputs": [
        {
          "output_type": "display_data",
          "data": {
            "image/png": "[encoded data removed]",
            "text/plain": [
              "<Figure size 432x288 with 1 Axes>"
            ]
          },
          "metadata": {
            "tags": [],
            "needs_background": "light"
          }
        }
      ]
    },
    {
      "cell_type": "code",
      "metadata": {
        "id": "gPbKw7rtKspp",
        "colab_type": "code",
        "outputId": "10df4bc2-ad86-42d8-80df-6c693d692b93",
        "colab": {
          "base_uri": "https://localhost:8080/",
          "height": 343
        }
      },
      "source": [
        "model.summary()\n",
        "plot_model(model, show_shapes=True, to_file='model.png')"
      ],
      "execution_count": 0,
      "outputs": [
        {
          "output_type": "stream",
          "text": [
            "Model: \"my_model\"\n",
            "_________________________________________________________________\n",
            "Layer (type)                 Output Shape              Param #   \n",
            "=================================================================\n",
            "conv2d (Conv2D)              multiple                  320       \n",
            "_________________________________________________________________\n",
            "flatten (Flatten)            multiple                  0         \n",
            "_________________________________________________________________\n",
            "dense (Dense)                multiple                  2769024   \n",
            "_________________________________________________________________\n",
            "predict (Dense)              multiple                  1290      \n",
            "=================================================================\n",
            "Total params: 2,770,634\n",
            "Trainable params: 2,770,634\n",
            "Non-trainable params: 0\n",
            "_________________________________________________________________\n"
          ],
          "name": "stdout"
        },
        {
          "output_type": "execute_result",
          "data": {
            "image/png": "[encoded data removed]",
            "text/plain": [
              "<IPython.core.display.Image object>"
            ]
          },
          "metadata": {
            "tags": []
          },
          "execution_count": 256
        }
      ]
    },
    {
      "cell_type": "markdown",
      "metadata": {
        "id": "Smm3xMHOY7V1",
        "colab_type": "text"
      },
      "source": [
        "# Let's make prediction with the model"
      ]
    },
    {
      "cell_type": "code",
      "metadata": {
        "id": "Dv3k2-rSDBnk",
        "colab_type": "code",
        "colab": {}
      },
      "source": [
        "for images,labels in test_ds.take(2):\n",
        "  print(images.shape)  ## (32, 28, 28, 1)\n",
        "  im = images[7:8]     ## take 6th image out of the batch.\n",
        "  print(\"Predict: \", model(im).numpy().argmax())\n",
        "  plt.imshow(im.numpy().reshape(28,28))\n",
        "  plt.show()\n"
      ],
      "execution_count": 0,
      "outputs": []
    },
    {
      "cell_type": "code",
      "metadata": {
        "id": "7Xr9cvNHLaNt",
        "colab_type": "code",
        "outputId": "2705d66a-d7f5-4c40-880a-083952b151dc",
        "colab": {
          "base_uri": "https://localhost:8080/",
          "height": 136
        }
      },
      "source": [
        "# Make prediction via `model.predict()` for multimple sample\n",
        "for images,labels in test_ds.take(1):\n",
        "  pre = model.predict(images).argmax(axis=1)\n",
        "  print( pre)\n",
        "  print( labels)\n",
        "  print( pre-labels.numpy())\n",
        "  "
      ],
      "execution_count": 0,
      "outputs": [
        {
          "output_type": "stream",
          "text": [
            "[7 2 1 0 4 1 4 9 5 9 0 6 9 0 1 5 9 7 3 4 9 6 6 5 4 0 7 4 0 1 3 1 3 4 7 2 7\n",
            " 1 2 1 1 7 4 2 3 5 1 2 4 4 6 3 5 5 6 0 4 1 9 5 7 8 9 3]\n",
            "tf.Tensor(\n",
            "[7 2 1 0 4 1 4 9 5 9 0 6 9 0 1 5 9 7 3 4 9 6 6 5 4 0 7 4 0 1 3 1 3 4 7 2 7\n",
            " 1 2 1 1 7 4 2 3 5 1 2 4 4 6 3 5 5 6 0 4 1 9 5 7 8 9 3], shape=(64,), dtype=uint8)\n",
            "[0 0 0 0 0 0 0 0 0 0 0 0 0 0 0 0 0 0 0 0 0 0 0 0 0 0 0 0 0 0 0 0 0 0 0 0 0\n",
            " 0 0 0 0 0 0 0 0 0 0 0 0 0 0 0 0 0 0 0 0 0 0 0 0 0 0 0]\n"
          ],
          "name": "stdout"
        }
      ]
    },
    {
      "cell_type": "code",
      "metadata": {
        "id": "kmSiyo878mRE",
        "colab_type": "code",
        "colab": {}
      },
      "source": [
        "MODEL_PATH=\"./model/mnist_v0\"\n",
        "tf.saved_model.save(model, MODEL_PATH)   ##  It seems TF can create an folder if not existed.\n"
      ],
      "execution_count": 0,
      "outputs": []
    },
    {
      "cell_type": "code",
      "metadata": {
        "id": "Z8kKeamwUq18",
        "colab_type": "code",
        "outputId": "9f100fbe-109b-487f-ae62-e7451648674d",
        "colab": {
          "base_uri": "https://localhost:8080/",
          "height": 34
        }
      },
      "source": [
        "#tf.keras.saved_model.save(model, MODEL_PATH)   ##  It seems TF can create an folder if not existed.\n",
        "model.save(\"test\")"
      ],
      "execution_count": 0,
      "outputs": [
        {
          "output_type": "stream",
          "text": [
            "INFO:tensorflow:Assets written to: test/assets\n"
          ],
          "name": "stdout"
        }
      ]
    },
    {
      "cell_type": "code",
      "metadata": {
        "id": "UDotomaDL6if",
        "colab_type": "code",
        "colab": {}
      },
      "source": [
        "GD_PATH=\"/content/drive/'My Drive'/Colab_shared\"\n",
        "#!cp -r {MODEL_PATH} {GD_PATH}/\n",
        "\n",
        "## Or, compress the folder to save space before copy\n",
        "##!tar czvf model.tgz {MODEL_PATH}\n",
        "##!cp model.tgz {GD_PATH}\n",
        "\n",
        "### It seems Colab doesn't allow downloading large files\n",
        "# from google.colab import files\n",
        "# files.download(MODEL_FILE)\n"
      ],
      "execution_count": 0,
      "outputs": []
    },
    {
      "cell_type": "markdown",
      "metadata": {
        "id": "pchMUmFdLr8R",
        "colab_type": "text"
      },
      "source": [
        "* Let's save the notebook in your github. And then open a new colab to use the saved model.\n"
      ]
    }
  ]
}
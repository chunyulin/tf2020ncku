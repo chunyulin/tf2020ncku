{
  "nbformat": 4,
  "nbformat_minor": 0,
  "metadata": {
    "colab": {
      "name": "0_prepare.ipynb",
      "provenance": [],
      "collapsed_sections": [],
      "toc_visible": true,
      "include_colab_link": true
    },
    "kernelspec": {
      "name": "python3",
      "display_name": "Python 3"
    },
    "accelerator": "GPU"
  },
  "cells": [
    {
      "cell_type": "markdown",
      "metadata": {
        "id": "view-in-github",
        "colab_type": "text"
      },
      "source": [
        "<a href=\"https://colab.research.google.com/github/chunyulin/tf2020ncku/blob/master/0_prepare.ipynb\" target=\"_parent\"><img src=\"https://colab.research.google.com/assets/colab-badge.svg\" alt=\"Open In Colab\"/></a>"
      ]
    },
    {
      "cell_type": "markdown",
      "metadata": {
        "id": "NhBUTHv06doT",
        "colab_type": "text"
      },
      "source": [
        "# Get familiar with your free GPU resource\n",
        "* Colab as the linux box with root premission.\n",
        "* You cab mount Google Drive to the colab box.\n",
        "* You can load ipython from Github directly, or checkout the whole github repository (though not really needed).\n",
        "* All data here are temporary. You would like to save on Google drive, github, or your own server.\n"
      ]
    },
    {
      "cell_type": "code",
      "metadata": {
        "id": "AXarvp_z3Kwf",
        "colab_type": "code",
        "colab": {}
      },
      "source": [
        "# For those familiar with Linux -- You just own a virtual machine with root\n",
        "!whoami\n",
        "!pwd\n",
        "!free -h\n",
        "!df -h\n",
        "#!ls /\n",
        "\n"
      ],
      "execution_count": 0,
      "outputs": []
    },
    {
      "cell_type": "code",
      "metadata": {
        "id": "EkuGjQGqBehB",
        "colab_type": "code",
        "colab": {}
      },
      "source": [
        "###  Check your TF version and GPU hardware\n",
        "import tensorflow as tf\n",
        "#import tensorflow.compat.v1 as tf\n",
        "from tensorflow.python.client import device_lib\n",
        "\n",
        "print (\"Using Tensorflow: \", tf.__version__)\n",
        "print ( device_lib.list_local_devices() )\n",
        "!nvidia-smi"
      ],
      "execution_count": 0,
      "outputs": []
    },
    {
      "cell_type": "code",
      "metadata": {
        "id": "htfK48KA1wVl",
        "colab_type": "code",
        "colab": {}
      },
      "source": [
        "## All data here are temporary. You would like to save on Google drive, github, or your own server.\n",
        "# You cab mount Google Drive\n",
        "# Or just wget from other storage you have, such as S3, HTTP,...\n",
        "\n",
        "from google.colab import drive\n",
        "drive.mount('/content/drive')\n",
        "#!ls /content/drive/'My Drive'"
      ],
      "execution_count": 0,
      "outputs": []
    },
    {
      "cell_type": "code",
      "metadata": {
        "id": "JHfKWwgU7_s0",
        "colab_type": "code",
        "colab": {}
      },
      "source": [
        "import os\n",
        "GIT_USERNAME = \"chunyulin\"\n",
        "GIT_REPOSITORY = \"test\"     # git repository\n",
        "\n",
        "#GIT_TOKEN = \"XXXX\"          # only need for private git repository\n",
        "#GIT_PATH = \"https://{GIT_TOKEN}@github.com/{GIT_USERNAME}/{GIT_REPOSITORY}.git\"\n",
        "GIT_PATH = \"https://github.com/%s/%s.git\" % ( GIT_USERNAME, GIT_REPOSITORY )\n",
        "\n",
        "!git clone \"{GIT_PATH}\"     ## {} is only valid in bash\n",
        "!ls"
      ],
      "execution_count": 0,
      "outputs": []
    },
    {
      "cell_type": "markdown",
      "metadata": {
        "id": "194Cuand6eXm",
        "colab_type": "text"
      },
      "source": [
        "# A simple TensorFlow task : MNIST\n",
        "Example from https://www.tensorflow.org/tutorials/quickstart/advanced\n",
        "\n",
        "* Load data: `tf.keras.datasets.mnist.load_data()`\n",
        "* Prepare TF dataset: `tf.data.Dataset`\n",
        "* Design model: `class MyModel(Model)`\n",
        "* Perform Training via `tf.keras`\n",
        "\n",
        "### Some note about TF model.\n",
        "* There are many approached to write a model. See [the blog](https://www.pyimagesearch.com/2019/10/28/3-ways-to-create-a-keras-model-with-tensorflow-2-0-sequential-functional-and-model-subclassing/).\n",
        "* Subclass model may not sequencial and is not static. Some function are not support. See [this duscussion](https://stackoverflow.com/questions/51806852/cant-save-custom-subclassed-model)."
      ]
    },
    {
      "cell_type": "code",
      "metadata": {
        "id": "EJxaZseG8BFA",
        "colab_type": "code",
        "colab": {}
      },
      "source": [
        "import tensorflow as tf\n",
        "import numpy as np\n",
        "\n",
        "mnist = tf.keras.datasets.mnist\n",
        "\n",
        "(x_train, y_train), (x_test, y_test) = mnist.load_data()\n",
        "x_train, x_test = x_train / 255.0, x_test / 255.0\n",
        "\n",
        "# Add a channels dimension\n",
        "x_train = x_train[..., tf.newaxis]\n",
        "x_test = x_test[..., tf.newaxis]\n",
        "\n",
        "#a = np.array(range(10)).reshape([2,5])\n",
        "#a[...,3]"
      ],
      "execution_count": 0,
      "outputs": []
    },
    {
      "cell_type": "code",
      "metadata": {
        "id": "Fv8qioBC8DwB",
        "colab_type": "code",
        "colab": {}
      },
      "source": [
        "train_ds = tf.data.Dataset.from_tensor_slices(\n",
        "    (x_train, y_train)).shuffle(10000).batch(32)\n",
        "\n",
        "test_ds = tf.data.Dataset.from_tensor_slices((x_test, y_test)).batch(32)"
      ],
      "execution_count": 0,
      "outputs": []
    },
    {
      "cell_type": "code",
      "metadata": {
        "id": "LjTTnbg0EAcL",
        "colab_type": "code",
        "colab": {}
      },
      "source": [
        "## Before training, let's have a look on the data\n",
        "import matplotlib.pyplot as plt\n",
        "ID=111\n",
        "plt.imshow(x_train[ID,...,0])\n",
        "plt.title(\"MNIST: %d\" % y_train[ID])\n",
        "plt.show()"
      ],
      "execution_count": 0,
      "outputs": []
    },
    {
      "cell_type": "code",
      "metadata": {
        "id": "hxPDre0W8TLg",
        "colab_type": "code",
        "colab": {}
      },
      "source": [
        "from tensorflow.keras import Model\n",
        "from tensorflow.keras.layers import Dense,Conv2D,Flatten\n",
        "class MyModel(Model):\n",
        "  def __init__(self):\n",
        "    super(MyModel, self).__init__()\n",
        "    self.conv1 = Conv2D(32, 3, activation='relu')\n",
        "    #self.conv2 = Conv2D(64, 3, activation='relu')\n",
        "    self.flatten = Flatten()\n",
        "    self.d1 = Dense(128, activation='relu')\n",
        "    self.d2 = Dense(10, activation='softmax', name=\"predict\")\n",
        "\n",
        "  def call(self, x):\n",
        "    x = self.conv1(x)\n",
        "    #x = self.conv2(x)\n",
        "    x = self.flatten(x)\n",
        "    x = self.d1(x)\n",
        "    return self.d2(x)\n",
        "\n",
        "# Create an instance of the model\n",
        "tf.compat.v1.reset_default_graph()\n",
        "model = MyModel()\n",
        "\n",
        "# Define loss and optimzer\n",
        "#loss_object = tf.keras.losses.SparseCategoricalCrossentropy()\n",
        "#optimizer = tf.keras.optimizers.Adam()\n",
        "#model.build( input_shape=(None, 28,28,1) )\n"
      ],
      "execution_count": 0,
      "outputs": []
    },
    {
      "cell_type": "code",
      "metadata": {
        "id": "yj03qtRFDQf6",
        "colab_type": "code",
        "colab": {
          "base_uri": "https://localhost:8080/",
          "height": 67
        },
        "outputId": "567c710a-8362-4d86-9695-e16beb719421"
      },
      "source": [
        "from keras.utils.vis_utils import plot_model\n",
        "plot_model(model, show_shapes=True, to_file='model.png')"
      ],
      "execution_count": 192,
      "outputs": [
        {
          "output_type": "execute_result",
          "data": {
            "image/png": "[encoded data removed]",
            "text/plain": [
              "<IPython.core.display.Image object>"
            ]
          },
          "metadata": {
            "tags": []
          },
          "execution_count": 192
        }
      ]
    },
    {
      "cell_type": "code",
      "metadata": {
        "id": "CbinNbvB8YKq",
        "colab_type": "code",
        "colab": {}
      },
      "source": [
        "train_loss = tf.keras.metrics.Mean(name='train_loss')\n",
        "train_accuracy = tf.keras.metrics.SparseCategoricalAccuracy(name='train_accuracy')\n",
        "\n",
        "test_loss = tf.keras.metrics.Mean(name='test_loss')\n",
        "test_accuracy = tf.keras.metrics.SparseCategoricalAccuracy(name='test_accuracy')"
      ],
      "execution_count": 0,
      "outputs": []
    },
    {
      "cell_type": "code",
      "metadata": {
        "id": "H_KFU7JY8aPH",
        "colab_type": "code",
        "colab": {}
      },
      "source": [
        "## The decorator `@tf.function` introduced for TF2\n",
        "@tf.function\n",
        "def train_step(images, labels):\n",
        "  with tf.GradientTape() as tape:\n",
        "    predictions = model(images)\n",
        "    loss = loss_object(labels, predictions)\n",
        "  gradients = tape.gradient(loss, model.trainable_variables)\n",
        "  optimizer.apply_gradients(zip(gradients, model.trainable_variables))\n",
        "\n",
        "  train_loss(loss)\n",
        "  train_accuracy(labels, predictions)\n",
        "\n",
        "@tf.function\n",
        "def test_step(images, labels):\n",
        "  predictions = model(images)\n",
        "  t_loss = loss_object(labels, predictions)\n",
        "\n",
        "  test_loss(t_loss)\n",
        "  test_accuracy(labels, predictions)"
      ],
      "execution_count": 0,
      "outputs": []
    },
    {
      "cell_type": "code",
      "metadata": {
        "id": "XD9Z09Uq8f1v",
        "colab_type": "code",
        "outputId": "6e4eb256-9a98-4e88-e8d7-1782b406d07a",
        "colab": {
          "base_uri": "https://localhost:8080/",
          "height": 309
        }
      },
      "source": [
        "EPOCHS = 10\n",
        "\n",
        "train_loss_history = []\n",
        "test_loss_history = []\n",
        "\n",
        "for epoch in range(EPOCHS):\n",
        "  for images, labels in train_ds:\n",
        "    train_step(images, labels)\n",
        "\n",
        "  for test_images, test_labels in test_ds:\n",
        "    test_step(test_images, test_labels)\n",
        "\n",
        "  train_loss_history.append(np.mean(train_loss.result()))\n",
        "  test_loss_history.append(np.mean(test_loss.result()))\n",
        "\n",
        "  template = 'Epoch {}, Loss: {}, Accuracy: {}, Test Loss: {}, Test Accuracy: {}'\n",
        "  print(template.format(epoch+1,\n",
        "                        train_loss.result(),\n",
        "                        train_accuracy.result()*100,\n",
        "                        test_loss.result(),\n",
        "                        test_accuracy.result()*100))\n",
        "\n",
        "  # Reset the metrics for the next epoch\n",
        "  train_loss.reset_states()\n",
        "  train_accuracy.reset_states()\n",
        "  test_loss.reset_states()\n",
        "  test_accuracy.reset_states()"
      ],
      "execution_count": 185,
      "outputs": [
        {
          "output_type": "stream",
          "text": [
            "WARNING:tensorflow:Layer my_model_8 is casting an input tensor from dtype float64 to the layer's dtype of float32, which is new behavior in TensorFlow 2.  The layer has dtype float32 because it's dtype defaults to floatx.\n",
            "\n",
            "If you intended to run this layer in float32, you can safely ignore this warning. If in doubt, this warning is likely only an issue if you are porting a TensorFlow 1.X model to TensorFlow 2.\n",
            "\n",
            "To change all layers to have dtype float64 by default, call `tf.keras.backend.set_floatx('float64')`. To change just this layer, pass dtype='float64' to the layer constructor. If you are the author of this layer, you can disable autocasting by passing autocast=False to the base Layer constructor.\n",
            "\n",
            "Epoch 1, Loss: 0.13921049237251282, Accuracy: 95.86499786376953, Test Loss: 0.06260816007852554, Test Accuracy: 97.97999572753906\n",
            "Epoch 2, Loss: 0.043844401836395264, Accuracy: 98.66500091552734, Test Loss: 0.05290108174085617, Test Accuracy: 98.31999969482422\n",
            "Epoch 3, Loss: 0.021380756050348282, Accuracy: 99.30833435058594, Test Loss: 0.05380738526582718, Test Accuracy: 98.31999969482422\n",
            "Epoch 4, Loss: 0.014774051494896412, Accuracy: 99.5, Test Loss: 0.052122876048088074, Test Accuracy: 98.54999542236328\n",
            "Epoch 5, Loss: 0.009180542081594467, Accuracy: 99.69833374023438, Test Loss: 0.062056515365839005, Test Accuracy: 98.43000030517578\n",
            "Epoch 6, Loss: 0.006900808773934841, Accuracy: 99.75666046142578, Test Loss: 0.05576830729842186, Test Accuracy: 98.54000091552734\n",
            "Epoch 7, Loss: 0.005930210463702679, Accuracy: 99.79166412353516, Test Loss: 0.05503355339169502, Test Accuracy: 98.58000183105469\n",
            "Epoch 8, Loss: 0.004474205430597067, Accuracy: 99.83833312988281, Test Loss: 0.07203291356563568, Test Accuracy: 98.47999572753906\n",
            "Epoch 9, Loss: 0.0038651572540402412, Accuracy: 99.875, Test Loss: 0.07874151319265366, Test Accuracy: 98.29000091552734\n",
            "Epoch 10, Loss: 0.004043599124997854, Accuracy: 99.87666320800781, Test Loss: 0.07187908887863159, Test Accuracy: 98.45999908447266\n"
          ],
          "name": "stdout"
        }
      ]
    },
    {
      "cell_type": "code",
      "metadata": {
        "id": "S2khD2zrHYH9",
        "colab_type": "code",
        "colab": {}
      },
      "source": [
        "## Monitor the training behavior.\n",
        "## Can be replace with other tools like TensorBoard.\n",
        "plt.plot(train_loss_history, label='train')\n",
        "plt.plot(test_loss_history, label='test')\n",
        "plt.xlabel('Batch #')\n",
        "plt.ylabel('Loss [entropy]')\n",
        "plt.legend()"
      ],
      "execution_count": 0,
      "outputs": []
    },
    {
      "cell_type": "markdown",
      "metadata": {
        "id": "zmF70j8jJuk0",
        "colab_type": "text"
      },
      "source": [
        "# Another way to train\n"
      ]
    },
    {
      "cell_type": "code",
      "metadata": {
        "id": "hRl8hVtjJKBJ",
        "colab_type": "code",
        "colab": {}
      },
      "source": [
        "# Another way to train:\n",
        "model.compile(optimizer=tf.keras.optimizers.Adam(), loss = tf.keras.losses.SparseCategoricalCrossentropy())\n",
        "his = model.fit(x_train, y_train, batch_size=64, epochs=10,\n",
        "                    validation_data=(x_test, y_test))"
      ],
      "execution_count": 0,
      "outputs": []
    },
    {
      "cell_type": "code",
      "metadata": {
        "id": "3YBFzhOxK5zk",
        "colab_type": "code",
        "colab": {}
      },
      "source": [
        "plt.plot(his.history['loss'], label=\"train loss\")\n",
        "plt.plot(his.history['val_loss'], label=\"val loss\")\n",
        "plt.legend()\n",
        "plt.show()"
      ],
      "execution_count": 0,
      "outputs": []
    },
    {
      "cell_type": "code",
      "metadata": {
        "id": "gPbKw7rtKspp",
        "colab_type": "code",
        "colab": {
          "base_uri": "https://localhost:8080/",
          "height": 71
        },
        "outputId": "c95ecd38-4ed8-4cf8-c550-6c341b9716a5"
      },
      "source": [
        "#model.summary()\n",
        "plot_model(model, show_shapes=True, to_file='model.png')"
      ],
      "execution_count": 203,
      "outputs": [
        {
          "output_type": "execute_result",
          "data": {
            "image/png": "[encoded data removed]",
            "text/plain": [
              "<IPython.core.display.Image object>"
            ]
          },
          "metadata": {
            "tags": []
          },
          "execution_count": 203
        }
      ]
    },
    {
      "cell_type": "code",
      "metadata": {
        "id": "Dv3k2-rSDBnk",
        "colab_type": "code",
        "colab": {}
      },
      "source": [
        "for images,labels in test_ds.take(2):\n",
        "  print(images.shape)  ## (32, 28, 28, 1)\n",
        "  im = images[7:8]     ## take 6th image out of the batch.\n",
        "  print(\"Predict: \", model(im).numpy().argmax())\n",
        "  plt.imshow(im.numpy().reshape(28,28))\n",
        "  plt.show()\n"
      ],
      "execution_count": 0,
      "outputs": []
    },
    {
      "cell_type": "code",
      "metadata": {
        "id": "7Xr9cvNHLaNt",
        "colab_type": "code",
        "colab": {
          "base_uri": "https://localhost:8080/",
          "height": 190
        },
        "outputId": "ba8c7e03-edad-4985-b29b-0a7d54823667"
      },
      "source": [
        "# Make prediction via `model.predict()` for multimple sample\n",
        "for images,labels in test_ds.take(1):\n",
        "  pre = model.predict(images).argmax(axis=1)\n",
        "  print( pre)\n",
        "  print( labels)\n",
        "  print( pre-labels.numpy())\n",
        "  "
      ],
      "execution_count": 210,
      "outputs": [
        {
          "output_type": "stream",
          "text": [
            "WARNING:tensorflow:Layer my_model is casting an input tensor from dtype float64 to the layer's dtype of float32, which is new behavior in TensorFlow 2.  The layer has dtype float32 because it's dtype defaults to floatx.\n",
            "\n",
            "If you intended to run this layer in float32, you can safely ignore this warning. If in doubt, this warning is likely only an issue if you are porting a TensorFlow 1.X model to TensorFlow 2.\n",
            "\n",
            "To change all layers to have dtype float64 by default, call `tf.keras.backend.set_floatx('float64')`. To change just this layer, pass dtype='float64' to the layer constructor. If you are the author of this layer, you can disable autocasting by passing autocast=False to the base Layer constructor.\n",
            "\n",
            "[7 2 1 0 4 1 4 9 5 9 0 6 9 0 1 5 9 7 5 4 9 6 6 5 4 0 7 4 0 1 3 1]\n",
            "tf.Tensor([7 2 1 0 4 1 4 9 5 9 0 6 9 0 1 5 9 7 3 4 9 6 6 5 4 0 7 4 0 1 3 1], shape=(32,), dtype=uint8)\n",
            "[0 0 0 0 0 0 0 0 0 0 0 0 0 0 0 0 0 0 2 0 0 0 0 0 0 0 0 0 0 0 0 0]\n"
          ],
          "name": "stdout"
        }
      ]
    },
    {
      "cell_type": "code",
      "metadata": {
        "id": "kmSiyo878mRE",
        "colab_type": "code",
        "colab": {}
      },
      "source": [
        "MODEL_PATH=\"./model/mnist_v0\"\n",
        "tf.saved_model.save(model, MODEL_PATH)   ##  It seems TF can create an folder if not existed.\n"
      ],
      "execution_count": 0,
      "outputs": []
    },
    {
      "cell_type": "code",
      "metadata": {
        "id": "UDotomaDL6if",
        "colab_type": "code",
        "colab": {}
      },
      "source": [
        "GD_PATH=\"/content/drive/'My Drive'/Colab_shared\"\n",
        "#!cp -r {MODEL_PATH} {GD_PATH}/\n",
        "\n",
        "## Or, compress the folder to save space before copy\n",
        "##!tar czvf model.tgz {MODEL_PATH}\n",
        "##!cp model.tgz {GD_PATH}\n",
        "\n",
        "### It seems Colab doesn't allow downloading large files\n",
        "# from google.colab import files\n",
        "# files.download(MODEL_FILE)\n"
      ],
      "execution_count": 0,
      "outputs": []
    },
    {
      "cell_type": "markdown",
      "metadata": {
        "id": "pchMUmFdLr8R",
        "colab_type": "text"
      },
      "source": [
        "* Let's save it in your github. And open a new colab to use the saved model.\n"
      ]
    }
  ]
}
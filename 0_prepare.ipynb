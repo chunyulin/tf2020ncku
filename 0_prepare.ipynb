{
  "nbformat": 4,
  "nbformat_minor": 0,
  "metadata": {
    "colab": {
      "name": "0_prepare.ipynb",
      "provenance": [],
      "collapsed_sections": [],
      "toc_visible": true,
      "include_colab_link": true
    },
    "kernelspec": {
      "name": "python3",
      "display_name": "Python 3"
    },
    "accelerator": "GPU"
  },
  "cells": [
    {
      "cell_type": "markdown",
      "metadata": {
        "id": "view-in-github",
        "colab_type": "text"
      },
      "source": [
        "<a href=\"https://colab.research.google.com/github/chunyulin/tf2020ncku/blob/master/0_prepare.ipynb\" target=\"_parent\"><img src=\"https://colab.research.google.com/assets/colab-badge.svg\" alt=\"Open In Colab\"/></a>"
      ]
    },
    {
      "cell_type": "markdown",
      "metadata": {
        "id": "NhBUTHv06doT",
        "colab_type": "text"
      },
      "source": [
        "# Get familiar with your free GPU resource\n",
        "* Colab as the linux box with root premission.\n",
        "* You cab mount Google Drive to the colab box.\n",
        "* You can load ipython from Github directly, or checkout the whole github repository (though not really needed).\n",
        "* All data here are temporary. You would like to save on Google drive, github, or your own server.\n"
      ]
    },
    {
      "cell_type": "code",
      "metadata": {
        "id": "AXarvp_z3Kwf",
        "colab_type": "code",
        "outputId": "9f299307-9ebc-486f-e92d-ccee9d832114",
        "colab": {
          "base_uri": "https://localhost:8080/",
          "height": 289
        }
      },
      "source": [
        "# For those familiar with Linux -- You just own a virtual machine with root\n",
        "!whoami\n",
        "!pwd\n",
        "!free -h\n",
        "!df -h\n",
        "#!ls /\n",
        "\n"
      ],
      "execution_count": 14,
      "outputs": [
        {
          "output_type": "stream",
          "text": [
            "root\n",
            "/content\n",
            "              total        used        free      shared  buff/cache   available\n",
            "Mem:            12G        1.2G        9.3G        952K        2.3G         11G\n",
            "Swap:            0B          0B          0B\n",
            "Filesystem      Size  Used Avail Use% Mounted on\n",
            "overlay          69G   32G   34G  49% /\n",
            "tmpfs            64M     0   64M   0% /dev\n",
            "tmpfs           6.4G     0  6.4G   0% /sys/fs/cgroup\n",
            "shm             5.8G     0  5.8G   0% /dev/shm\n",
            "tmpfs           6.4G   16K  6.4G   1% /var/colab\n",
            "/dev/sda1        75G   33G   43G  44% /opt/bin\n",
            "tmpfs           6.4G     0  6.4G   0% /proc/acpi\n",
            "tmpfs           6.4G     0  6.4G   0% /proc/scsi\n",
            "tmpfs           6.4G     0  6.4G   0% /sys/firmware\n",
            "drive            15G  6.5G  8.6G  43% /content/drive\n"
          ],
          "name": "stdout"
        }
      ]
    },
    {
      "cell_type": "code",
      "metadata": {
        "id": "EkuGjQGqBehB",
        "colab_type": "code",
        "colab": {}
      },
      "source": [
        "###  Check your TF version and GPU hardware\n",
        "import tensorflow as tf\n",
        "#import tensorflow.compat.v1 as tf\n",
        "from tensorflow.python.client import device_lib\n",
        "\n",
        "print (\"Using Tensorflow: \", tf.__version__)\n",
        "print ( device_lib.list_local_devices() )\n",
        "!nvidia-smi"
      ],
      "execution_count": 0,
      "outputs": []
    },
    {
      "cell_type": "code",
      "metadata": {
        "id": "htfK48KA1wVl",
        "colab_type": "code",
        "outputId": "75edffda-095d-455f-891e-d6e6958000a4",
        "colab": {
          "base_uri": "https://localhost:8080/",
          "height": 122
        }
      },
      "source": [
        "## All data here are temporary. You would like to save on Google drive, github, or your own server.\n",
        "# You cab mount Google Drive\n",
        "# Or just wget from other storage you have, such as S3, HTTP,...\n",
        "\n",
        "from google.colab import drive\n",
        "drive.mount('/content/drive')\n",
        "#!ls /content/drive/'My Drive'"
      ],
      "execution_count": 0,
      "outputs": [
        {
          "output_type": "stream",
          "text": [
            "Go to this URL in a browser: https://accounts.google.com/o/oauth2/auth?client_id=947318989803-6bn6qk8qdgf4n4g3pfee6491hc0brc4i.apps.googleusercontent.com&redirect_uri=urn%3aietf%3awg%3aoauth%3a2.0%3aoob&response_type=code&scope=email%20https%3a%2f%2fwww.googleapis.com%2fauth%2fdocs.test%20https%3a%2f%2fwww.googleapis.com%2fauth%2fdrive%20https%3a%2f%2fwww.googleapis.com%2fauth%2fdrive.photos.readonly%20https%3a%2f%2fwww.googleapis.com%2fauth%2fpeopleapi.readonly\n",
            "\n",
            "Enter your authorization code:\n",
            "··········\n",
            "Mounted at /content/drive\n"
          ],
          "name": "stdout"
        }
      ]
    },
    {
      "cell_type": "code",
      "metadata": {
        "id": "JHfKWwgU7_s0",
        "colab_type": "code",
        "outputId": "086a6b23-6b9b-487f-a02e-8393efe803eb",
        "colab": {
          "base_uri": "https://localhost:8080/",
          "height": 34
        }
      },
      "source": [
        "import os\n",
        "GIT_USERNAME = \"chunyulin\"\n",
        "GIT_REPOSITORY = \"test\"     # git repository\n",
        "\n",
        "#GIT_TOKEN = \"XXXX\"          # only need for private git repository\n",
        "#GIT_PATH = \"https://{GIT_TOKEN}@github.com/{GIT_USERNAME}/{GIT_REPOSITORY}.git\"\n",
        "GIT_PATH = \"https://github.com/%s/%s.git\" % ( GIT_USERNAME, GIT_REPOSITORY )\n",
        "\n",
        "!git clone \"{GIT_PATH}\"     ## {} is only valid in bash\n",
        "!ls"
      ],
      "execution_count": 78,
      "outputs": [
        {
          "output_type": "stream",
          "text": [
            "{GIT_PATH}\n"
          ],
          "name": "stdout"
        }
      ]
    },
    {
      "cell_type": "markdown",
      "metadata": {
        "id": "194Cuand6eXm",
        "colab_type": "text"
      },
      "source": [
        "# A simple TensorFlow task : MNIST\n",
        "Example from https://www.tensorflow.org/tutorials/quickstart/advanced\n",
        "\n",
        "* Load data: `tf.keras.datasets.mnist.load_data()`\n",
        "* Prepare TF dataset: `tf.data.Dataset`\n",
        "* Design model: `class MyModel(Model)`\n",
        "* Perform Training via `tf.keras`"
      ]
    },
    {
      "cell_type": "code",
      "metadata": {
        "id": "EJxaZseG8BFA",
        "colab_type": "code",
        "colab": {}
      },
      "source": [
        "import tensorflow as tf\n",
        "import numpy as np\n",
        "\n",
        "mnist = tf.keras.datasets.mnist\n",
        "\n",
        "(x_train, y_train), (x_test, y_test) = mnist.load_data()\n",
        "x_train, x_test = x_train / 255.0, x_test / 255.0\n",
        "\n",
        "# Add a channels dimension\n",
        "x_train = x_train[..., tf.newaxis]\n",
        "x_test = x_test[..., tf.newaxis]\n",
        "\n",
        "#a = np.array(range(10)).reshape([2,5])\n",
        "#a[...,3]"
      ],
      "execution_count": 0,
      "outputs": []
    },
    {
      "cell_type": "code",
      "metadata": {
        "id": "Fv8qioBC8DwB",
        "colab_type": "code",
        "colab": {}
      },
      "source": [
        "train_ds = tf.data.Dataset.from_tensor_slices(\n",
        "    (x_train, y_train)).shuffle(10000).batch(32)\n",
        "\n",
        "test_ds = tf.data.Dataset.from_tensor_slices((x_test, y_test)).batch(32)"
      ],
      "execution_count": 0,
      "outputs": []
    },
    {
      "cell_type": "code",
      "metadata": {
        "id": "LjTTnbg0EAcL",
        "colab_type": "code",
        "colab": {
          "base_uri": "https://localhost:8080/",
          "height": 281
        },
        "outputId": "4b945ddc-1c0a-4649-87f7-b3695f8490bd"
      },
      "source": [
        "## Before training, let's have a look on the data\n",
        "import matplotlib.pyplot as plt\n",
        "ID=111\n",
        "plt.imshow(x_train[ID,...,0])\n",
        "plt.title(\"MNIST: %d\" % y_train[ID])\n",
        "plt.show()"
      ],
      "execution_count": 95,
      "outputs": [
        {
          "output_type": "display_data",
          "data": {
            "image/png": "[encoded data removed]",
            "text/plain": [
              "<Figure size 432x288 with 1 Axes>"
            ]
          },
          "metadata": {
            "tags": [],
            "needs_background": "light"
          }
        }
      ]
    },
    {
      "cell_type": "code",
      "metadata": {
        "id": "hxPDre0W8TLg",
        "colab_type": "code",
        "colab": {}
      },
      "source": [
        "from tensorflow.keras import Model\n",
        "from tensorflow.keras.layers import Dense,Conv2D,Flatten\n",
        "class MyModel(Model):\n",
        "  def __init__(self):\n",
        "    super(MyModel, self).__init__()\n",
        "    self.conv1 = Conv2D(32, 3, activation='relu')\n",
        "    #self.conv2 = Conv2D(64, 3, activation='relu')\n",
        "    self.flatten = Flatten()\n",
        "    self.d1 = Dense(128, activation='relu')\n",
        "    self.d2 = Dense(10, activation='softmax', name=\"predict\")\n",
        "\n",
        "  def call(self, x):\n",
        "    x = self.conv1(x)\n",
        "    #x = self.conv2(x)\n",
        "    x = self.flatten(x)\n",
        "    x = self.d1(x)\n",
        "    return self.d2(x)\n",
        "\n",
        "# Create an instance of the model\n",
        "#tf.compat.v1.reset_default_graph()\n",
        "model = MyModel()\n",
        "\n",
        "# Define loss and optimzer\n",
        "loss_object = tf.keras.losses.SparseCategoricalCrossentropy()\n",
        "optimizer = tf.keras.optimizers.Adam()"
      ],
      "execution_count": 0,
      "outputs": []
    },
    {
      "cell_type": "code",
      "metadata": {
        "id": "yj03qtRFDQf6",
        "colab_type": "code",
        "colab": {
          "base_uri": "https://localhost:8080/",
          "height": 77
        },
        "outputId": "d27d36ce-6572-448f-cd5c-64ab4fb0880d"
      },
      "source": [
        "from keras.utils.vis_utils import plot_model\n",
        "plot_model(model, to_file='model.png')"
      ],
      "execution_count": 116,
      "outputs": [
        {
          "output_type": "execute_result",
          "data": {
            "image/png": "[encoded data removed]",
            "text/plain": [
              "<IPython.core.display.Image object>"
            ]
          },
          "metadata": {
            "tags": []
          },
          "execution_count": 116
        }
      ]
    },
    {
      "cell_type": "code",
      "metadata": {
        "id": "CbinNbvB8YKq",
        "colab_type": "code",
        "colab": {}
      },
      "source": [
        "train_loss = tf.keras.metrics.Mean(name='train_loss')\n",
        "train_accuracy = tf.keras.metrics.SparseCategoricalAccuracy(name='train_accuracy')\n",
        "\n",
        "test_loss = tf.keras.metrics.Mean(name='test_loss')\n",
        "test_accuracy = tf.keras.metrics.SparseCategoricalAccuracy(name='test_accuracy')"
      ],
      "execution_count": 0,
      "outputs": []
    },
    {
      "cell_type": "code",
      "metadata": {
        "id": "H_KFU7JY8aPH",
        "colab_type": "code",
        "colab": {}
      },
      "source": [
        "## The decorator `@tf.function` introduced for TF2\n",
        "@tf.function\n",
        "def train_step(images, labels):\n",
        "  with tf.GradientTape() as tape:\n",
        "    predictions = model(images)\n",
        "    loss = loss_object(labels, predictions)\n",
        "  gradients = tape.gradient(loss, model.trainable_variables)\n",
        "  optimizer.apply_gradients(zip(gradients, model.trainable_variables))\n",
        "\n",
        "  train_loss(loss)\n",
        "  train_accuracy(labels, predictions)\n",
        "\n",
        "@tf.function\n",
        "def test_step(images, labels):\n",
        "  predictions = model(images)\n",
        "  t_loss = loss_object(labels, predictions)\n",
        "\n",
        "  test_loss(t_loss)\n",
        "  test_accuracy(labels, predictions)"
      ],
      "execution_count": 0,
      "outputs": []
    },
    {
      "cell_type": "code",
      "metadata": {
        "id": "XD9Z09Uq8f1v",
        "colab_type": "code",
        "outputId": "0f63926b-612c-4813-f0bd-8cfc0e64e7e1",
        "colab": {
          "base_uri": "https://localhost:8080/",
          "height": 207
        }
      },
      "source": [
        "EPOCHS = 10\n",
        "\n",
        "train_loss_history = []\n",
        "test_loss_history = []\n",
        "\n",
        "for epoch in range(EPOCHS):\n",
        "  for images, labels in train_ds:\n",
        "    train_step(images, labels)\n",
        "\n",
        "  for test_images, test_labels in test_ds:\n",
        "    test_step(test_images, test_labels)\n",
        "\n",
        "  train_loss_history.append(np.mean(train_loss.result()))\n",
        "  test_loss_history.append(np.mean(test_loss.result()))\n",
        "\n",
        "  template = 'Epoch {}, Loss: {}, Accuracy: {}, Test Loss: {}, Test Accuracy: {}'\n",
        "  print(template.format(epoch+1,\n",
        "                        train_loss.result(),\n",
        "                        train_accuracy.result()*100,\n",
        "                        test_loss.result(),\n",
        "                        test_accuracy.result()*100))\n",
        "\n",
        "  # Reset the metrics for the next epoch\n",
        "  train_loss.reset_states()\n",
        "  train_accuracy.reset_states()\n",
        "  test_loss.reset_states()\n",
        "  test_accuracy.reset_states()"
      ],
      "execution_count": 129,
      "outputs": [
        {
          "output_type": "stream",
          "text": [
            "Epoch 1, Loss: 0.13923302292823792, Accuracy: 95.7972412109375, Test Loss: 0.05809866264462471, Test Accuracy: 98.20999908447266\n",
            "Epoch 2, Loss: 0.04221782088279724, Accuracy: 98.70832824707031, Test Loss: 0.05909726396203041, Test Accuracy: 98.0\n",
            "Epoch 3, Loss: 0.0235193632543087, Accuracy: 99.26166534423828, Test Loss: 0.056015245616436005, Test Accuracy: 98.0999984741211\n",
            "Epoch 4, Loss: 0.013707233592867851, Accuracy: 99.55333709716797, Test Loss: 0.0588117316365242, Test Accuracy: 98.36000061035156\n",
            "Epoch 5, Loss: 0.010071860626339912, Accuracy: 99.66999816894531, Test Loss: 0.05818188562989235, Test Accuracy: 98.50999450683594\n",
            "Epoch 6, Loss: 0.006807222962379456, Accuracy: 99.76499938964844, Test Loss: 0.06348755955696106, Test Accuracy: 98.3699951171875\n",
            "Epoch 7, Loss: 0.00523645244538784, Accuracy: 99.81999969482422, Test Loss: 0.07563311606645584, Test Accuracy: 98.31999969482422\n",
            "Epoch 8, Loss: 0.005172817036509514, Accuracy: 99.8116683959961, Test Loss: 0.07332701981067657, Test Accuracy: 98.44999694824219\n",
            "Epoch 9, Loss: 0.003933914937078953, Accuracy: 99.87333679199219, Test Loss: 0.07564151287078857, Test Accuracy: 98.37999725341797\n",
            "Epoch 10, Loss: 0.004214013461023569, Accuracy: 99.85333251953125, Test Loss: 0.09327360987663269, Test Accuracy: 98.18000030517578\n"
          ],
          "name": "stdout"
        }
      ]
    },
    {
      "cell_type": "code",
      "metadata": {
        "id": "S2khD2zrHYH9",
        "colab_type": "code",
        "colab": {
          "base_uri": "https://localhost:8080/",
          "height": 296
        },
        "outputId": "4af7d9c5-0d16-49a5-98a7-612ac7d913db"
      },
      "source": [
        "## Monitor the training behavior.\n",
        "## Can be replace with other tools like TensorBoard.\n",
        "plt.plot(train_loss_history, label='train')\n",
        "plt.plot(test_loss_history, label='test')\n",
        "plt.xlabel('Batch #')\n",
        "plt.ylabel('Loss [entropy]')\n",
        "plt.legend()"
      ],
      "execution_count": 130,
      "outputs": [
        {
          "output_type": "execute_result",
          "data": {
            "text/plain": [
              "<matplotlib.legend.Legend at 0x7fb7d82d6e10>"
            ]
          },
          "metadata": {
            "tags": []
          },
          "execution_count": 130
        },
        {
          "output_type": "display_data",
          "data": {
            "image/png": "[encoded data removed]",
            "text/plain": [
              "<Figure size 432x288 with 1 Axes>"
            ]
          },
          "metadata": {
            "tags": [],
            "needs_background": "light"
          }
        }
      ]
    },
    {
      "cell_type": "code",
      "metadata": {
        "id": "Dv3k2-rSDBnk",
        "colab_type": "code",
        "colab": {
          "base_uri": "https://localhost:8080/",
          "height": 581
        },
        "outputId": "8c66018b-5df9-48eb-c7e4-9cdcfca0e084"
      },
      "source": [
        "for images,labels in test_ds.take(2):\n",
        "  print(images.shape)  ## (32, 28, 28, 1)\n",
        "  im = images[7:8]     ## take 6th image out of the batch.\n",
        "  print(\"Predict: \", model(im).numpy().argmax())\n",
        "  plt.imshow(im.numpy().reshape(28,28))\n",
        "  plt.show()\n"
      ],
      "execution_count": 131,
      "outputs": [
        {
          "output_type": "stream",
          "text": [
            "(32, 28, 28, 1)\n",
            "Predict:  9\n"
          ],
          "name": "stdout"
        },
        {
          "output_type": "display_data",
          "data": {
            "image/png": "[encoded data removed]",
            "text/plain": [
              "<Figure size 432x288 with 1 Axes>"
            ]
          },
          "metadata": {
            "tags": [],
            "needs_background": "light"
          }
        },
        {
          "output_type": "stream",
          "text": [
            "(32, 28, 28, 1)\n",
            "Predict:  1\n"
          ],
          "name": "stdout"
        },
        {
          "output_type": "display_data",
          "data": {
            "image/png": "[encoded data removed]",
            "text/plain": [
              "<Figure size 432x288 with 1 Axes>"
            ]
          },
          "metadata": {
            "tags": [],
            "needs_background": "light"
          }
        }
      ]
    },
    {
      "cell_type": "code",
      "metadata": {
        "id": "7Xr9cvNHLaNt",
        "colab_type": "code",
        "colab": {
          "base_uri": "https://localhost:8080/",
          "height": 68
        },
        "outputId": "45374cd3-ca02-4fb7-efee-e0ac8f9c5c1a"
      },
      "source": [
        "# Make prediction via `model.predict()` for multimple sample\n",
        "for images,labels in test_ds.take(1):\n",
        "  pre = model.predict(images).argmax(axis=1)\n",
        "  print( pre)\n",
        "  print( labels)\n",
        "  print( pre-labels.numpy())\n",
        "  "
      ],
      "execution_count": 140,
      "outputs": [
        {
          "output_type": "stream",
          "text": [
            "[7 2 1 0 4 1 4 9 5 9 0 6 9 0 1 5 9 7 3 4 9 6 6 5 4 0 7 4 0 1 3 1]\n",
            "tf.Tensor([7 2 1 0 4 1 4 9 5 9 0 6 9 0 1 5 9 7 3 4 9 6 6 5 4 0 7 4 0 1 3 1], shape=(32,), dtype=uint8)\n",
            "[0 0 0 0 0 0 0 0 0 0 0 0 0 0 0 0 0 0 0 0 0 0 0 0 0 0 0 0 0 0 0 0]\n"
          ],
          "name": "stdout"
        }
      ]
    },
    {
      "cell_type": "code",
      "metadata": {
        "id": "kmSiyo878mRE",
        "colab_type": "code",
        "colab": {
          "base_uri": "https://localhost:8080/",
          "height": 34
        },
        "outputId": "91b59e80-a83d-4823-8a29-e2aa8b42e998"
      },
      "source": [
        "MODEL_PATH=\"./model/mnist_v0\"\n",
        "tf.saved_model.save(model, MODEL_PATH)   ##  It seems TF can create an folder if not existed.\n"
      ],
      "execution_count": 159,
      "outputs": [
        {
          "output_type": "stream",
          "text": [
            "INFO:tensorflow:Assets written to: ./model/mnist_v0/assets\n"
          ],
          "name": "stdout"
        }
      ]
    },
    {
      "cell_type": "code",
      "metadata": {
        "id": "UDotomaDL6if",
        "colab_type": "code",
        "colab": {}
      },
      "source": [
        "GD_PATH=\"/content/drive/'My Drive'/Colab_shared\"\n",
        "#!cp -r {MODEL_PATH} {GD_PATH}/\n",
        "\n",
        "## Or, compress the folder to save space before copy\n",
        "##!tar czvf model.tgz {MODEL_PATH}\n",
        "##!cp model.tgz {GD_PATH}\n",
        "\n",
        "### It seems Colab doesn't allow downloading large files\n",
        "# from google.colab import files\n",
        "# files.download(MODEL_FILE)\n"
      ],
      "execution_count": 0,
      "outputs": []
    },
    {
      "cell_type": "markdown",
      "metadata": {
        "id": "pchMUmFdLr8R",
        "colab_type": "text"
      },
      "source": [
        "* Let's save it in your github. And open a new colab to use the saved model.\n"
      ]
    }
  ]
}